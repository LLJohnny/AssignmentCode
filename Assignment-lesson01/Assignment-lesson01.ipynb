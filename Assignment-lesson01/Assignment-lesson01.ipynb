{
 "cells": [
  {
   "cell_type": "markdown",
   "metadata": {},
   "source": [
    "# #设计自己的句子生成器"
   ]
  },
  {
   "cell_type": "code",
   "execution_count": 1,
   "metadata": {},
   "outputs": [],
   "source": [
    "import random"
   ]
  },
  {
   "cell_type": "code",
   "execution_count": 2,
   "metadata": {},
   "outputs": [],
   "source": [
    "coach = \"\"\"\n",
    "coach = 号码 位置 自己 想法  人称 动作 结尾 \n",
    "号码 = 数字 号\n",
    "数字 = 单个数字\n",
    "单个数字 =  1 | 2 | 3 | 4 | 5 | 6 | 7 | 8 | 9 | 10 | 11 \n",
    "位置 = 前锋， |中场， | 后腰， | 后卫， |门将， \n",
    "自己 = 我\n",
    "人称 = 你 | 你们 | 所有人\n",
    "想法 = 让 | 要 | 想要 \n",
    "动作 = 拦截 | 铲球 | 射门 | 回防 | 往死里铲\n",
    "结尾 = 啊！\n",
    "\"\"\"\n",
    "player = \"\"\"\n",
    "player = 答复 自己 想法 动作 结尾\n",
    "答复 = 好的， | OK，| 没问题， \n",
    "自己 = 我 | 我们 \n",
    "想法 = 正在 | 准备 | 已经\n",
    "动作 = 拦截 | 铲球 | 射门 | 回防 | 往死里铲 | 防守\n",
    "结尾 = 啦！\n",
    "\"\"\"\n"
   ]
  },
  {
   "cell_type": "code",
   "execution_count": 3,
   "metadata": {},
   "outputs": [],
   "source": [
    "def create_grammar(gram,split='=',line_split='\\n'):\n",
    "    new_gram={}\n",
    "    for i in gram.split(line_split):\n",
    "        if not i.strip():continue\n",
    "        exp,stmt = i.split(split)\n",
    "        new_gram[exp.strip()] = [s.split() for s in stmt.split('|')]\n",
    "    return new_gram"
   ]
  },
  {
   "cell_type": "code",
   "execution_count": 4,
   "metadata": {},
   "outputs": [],
   "source": [
    "choice = random.choice\n",
    "def generate_gram(gram,target):\n",
    "    if target not in gram: return target  #如果target为终结符\n",
    "    extent = [generate_gram(gram,t) for t in choice(gram[target])]\n",
    "    return ''.join(e for e in extent)"
   ]
  },
  {
   "cell_type": "code",
   "execution_count": 5,
   "metadata": {},
   "outputs": [
    {
     "name": "stdout",
     "output_type": "stream",
     "text": [
      "8号门将，我要你们拦截啊！\n",
      "--OK，我准备防守啦！\n",
      "1号后腰，我要你们拦截啊！\n",
      "--好的，我准备往死里铲啦！\n",
      "11号后腰，我让所有人拦截啊！\n",
      "--OK，我正在防守啦！\n",
      "5号门将，我想要所有人射门啊！\n",
      "--没问题，我准备射门啦！\n",
      "6号后腰，我想要你拦截啊！\n",
      "--好的，我已经铲球啦！\n",
      "6号门将，我让所有人往死里铲啊！\n",
      "--OK，我们已经防守啦！\n",
      "5号中场，我想要你往死里铲啊！\n",
      "--OK，我准备铲球啦！\n",
      "10号后卫，我让你回防啊！\n",
      "--没问题，我们已经拦截啦！\n",
      "5号前锋，我要你回防啊！\n",
      "--好的，我准备铲球啦！\n",
      "9号后卫，我要所有人铲球啊！\n",
      "--好的，我准备回防啦！\n"
     ]
    }
   ],
   "source": [
    "for n in range(10):\n",
    "    print (generate_gram(create_grammar(coach),target='coach'))\n",
    "    print ('-'*2 + generate_gram(create_grammar(player),target='player'))"
   ]
  },
  {
   "cell_type": "markdown",
   "metadata": {},
   "source": [
    "# #Language Model\n",
    "使用保险行业和豆瓣评论两个个数据集进行语言模型训练"
   ]
  },
  {
   "cell_type": "code",
   "execution_count": 210,
   "metadata": {},
   "outputs": [],
   "source": [
    "import pandas as pd\n",
    "import string\n",
    "import re\n",
    "import jieba\n",
    "from collections import Counter"
   ]
  },
  {
   "cell_type": "code",
   "execution_count": 192,
   "metadata": {},
   "outputs": [
    {
     "name": "stderr",
     "output_type": "stream",
     "text": [
      "c:\\users\\13569\\appdata\\local\\programs\\python\\python37\\lib\\site-packages\\ipykernel_launcher.py:3: FutureWarning: read_table is deprecated, use read_csv instead.\n",
      "  This is separate from the ipykernel package so we can avoid doing imports until\n"
     ]
    },
    {
     "data": {
      "text/plain": [
       "12889"
      ]
     },
     "execution_count": 192,
     "metadata": {},
     "output_type": "execute_result"
    }
   ],
   "source": [
    "#导入train.txt\n",
    "txt_filename = 'd:/train.txt'\n",
    "table = pd.read_table(txt_filename,encoding='utf-8',header =None,sep='\\t')\n",
    "article_tmp= table[0].values\n",
    "article_txt=[]\n",
    "for a in article_tmp:\n",
    "    article_txt.append(a)\n",
    "len(article_txt)    "
   ]
  },
  {
   "cell_type": "code",
   "execution_count": 199,
   "metadata": {},
   "outputs": [
    {
     "data": {
      "text/plain": [
       "261497"
      ]
     },
     "execution_count": 199,
     "metadata": {},
     "output_type": "execute_result"
    }
   ],
   "source": [
    "#导入豆瓣评论的csv\n",
    "filename = 'd:/movie_comments.csv'\n",
    "content = pd.read_csv(filename,encoding='utf-8')\n",
    "content.head()\n",
    "articles = content['comment'].tolist()\n",
    "len(articles)"
   ]
  },
  {
   "cell_type": "code",
   "execution_count": 201,
   "metadata": {},
   "outputs": [
    {
     "data": {
      "text/plain": [
       "274386"
      ]
     },
     "execution_count": 201,
     "metadata": {},
     "output_type": "execute_result"
    }
   ],
   "source": [
    "#train.txt+豆瓣csv\n",
    "articles += article_txt\n",
    "len(articles)"
   ]
  },
  {
   "cell_type": "code",
   "execution_count": 242,
   "metadata": {},
   "outputs": [
    {
     "data": {
      "text/plain": [
       "274386"
      ]
     },
     "execution_count": 242,
     "metadata": {},
     "output_type": "execute_result"
    }
   ],
   "source": [
    "#正则表达式整理数据\n",
    "def token(string):\n",
    "    \n",
    "    return re.findall(r'^[^\\d]\\w+',string)\n",
    "\n",
    "articles_clean =  [''.join(token(str(a))) for a in articles]\n",
    "len(articles_clean)"
   ]
  },
  {
   "cell_type": "code",
   "execution_count": 243,
   "metadata": {},
   "outputs": [],
   "source": [
    "with open('Assignment_lesson01_test.txt','w',encoding='utf-8') as f:\n",
    "    for a in articles_clean:\n",
    "        f.write(a)"
   ]
  },
  {
   "cell_type": "code",
   "execution_count": 244,
   "metadata": {
    "scrolled": true
   },
   "outputs": [
    {
     "data": {
      "text/plain": [
       "1139760"
      ]
     },
     "execution_count": 244,
     "metadata": {},
     "output_type": "execute_result"
    }
   ],
   "source": [
    "def cut(string): return list(jieba.cut(string))\n",
    "\n",
    "TOKEN=[]\n",
    "for i,line in enumerate((open('Assignment_lesson01_test.txt',encoding='utf-8'))):\n",
    "    #if i % 100 == 0: print(i)\n",
    "    \n",
    "    if i > 260000: break #尝试取20+万数据\n",
    "    \n",
    "    TOKEN += cut(line)\n",
    "len(TOKEN)"
   ]
  },
  {
   "cell_type": "code",
   "execution_count": 245,
   "metadata": {},
   "outputs": [
    {
     "data": {
      "text/plain": [
       "[('的', 89544),\n",
       " ('了', 26932),\n",
       " ('是', 17628),\n",
       " ('我', 15442),\n",
       " ('看', 13963),\n",
       " ('电影', 13087),\n",
       " ('很', 11090),\n",
       " ('好', 7634),\n",
       " ('啊', 7517),\n",
       " ('都', 7450),\n",
       " ('不', 7290),\n",
       " ('在', 6801),\n",
       " ('和', 6762),\n",
       " ('有', 6746),\n",
       " ('喜欢', 5565),\n",
       " ('就', 5432),\n",
       " ('这', 5362),\n",
       " ('人', 5136),\n",
       " ('一个', 4672),\n",
       " ('还', 4653),\n",
       " ('故事', 4450),\n",
       " ('不错', 4297),\n",
       " ('一部', 4242),\n",
       " ('好看', 4016),\n",
       " ('也', 3858),\n",
       " ('片子', 3848),\n",
       " ('太', 3779),\n",
       " ('你', 3623),\n",
       " ('还是', 3478),\n",
       " ('剧情', 3425),\n",
       " ('没有', 3309),\n",
       " ('这个', 3223),\n",
       " ('就是', 3205),\n",
       " ('吧', 3019),\n",
       " ('说', 3007),\n",
       " ('没', 2996),\n",
       " ('给', 2995),\n",
       " ('最', 2885),\n",
       " ('片', 2762),\n",
       " ('什么', 2737),\n",
       " ('又', 2536),\n",
       " ('这部', 2512),\n",
       " ('得', 2493),\n",
       " ('挺', 2452),\n",
       " ('拍', 2448),\n",
       " ('觉得', 2448),\n",
       " ('上', 2421),\n",
       " ('经典', 2415),\n",
       " ('可以', 2367),\n",
       " ('真的', 2285),\n",
       " ('让', 2279),\n",
       " ('不是', 2243),\n",
       " ('想', 2194),\n",
       " ('有点', 2181),\n",
       " ('时候', 2171),\n",
       " ('到', 2139),\n",
       " ('这么', 2119),\n",
       " ('中', 2104),\n",
       " ('被', 2093),\n",
       " ('对', 2088),\n",
       " ('感觉', 2072),\n",
       " ('能', 2068),\n",
       " ('导演', 2054),\n",
       " ('多', 2054),\n",
       " ('看过', 2051),\n",
       " ('小', 2051),\n",
       " ('这种', 2011),\n",
       " ('其实', 1951),\n",
       " ('真是', 1890),\n",
       " ('比', 1871),\n",
       " ('最后', 1855),\n",
       " ('要', 1829),\n",
       " ('真', 1780),\n",
       " ('去', 1778),\n",
       " ('完', 1756),\n",
       " ('里', 1744),\n",
       " ('与', 1736),\n",
       " ('看到', 1736),\n",
       " ('爱', 1719),\n",
       " ('烂片', 1659),\n",
       " ('这样', 1646),\n",
       " ('知道', 1622),\n",
       " ('那么', 1618),\n",
       " ('把', 1617),\n",
       " ('虽然', 1607),\n",
       " ('个', 1591),\n",
       " ('一般', 1589),\n",
       " ('那', 1573),\n",
       " ('“', 1570),\n",
       " ('大', 1524),\n",
       " ('非常', 1466),\n",
       " ('着', 1430),\n",
       " ('那个', 1429),\n",
       " ('自己', 1415),\n",
       " ('会', 1376),\n",
       " ('怎么', 1362),\n",
       " ('第一部', 1290),\n",
       " ('青春', 1268),\n",
       " ('吗', 1267),\n",
       " ('逼', 1267)]"
      ]
     },
     "execution_count": 245,
     "metadata": {},
     "output_type": "execute_result"
    }
   ],
   "source": [
    "words_count=Counter(TOKEN)\n",
    "words_count.most_common(100) ##正则表达式没写好，还是出现了其他符号‘“’"
   ]
  },
  {
   "cell_type": "code",
   "execution_count": 231,
   "metadata": {},
   "outputs": [
    {
     "data": {
      "text/plain": [
       "[('的电影', 4098),\n",
       " ('看的', 3748),\n",
       " ('看了', 2067),\n",
       " ('的片子', 1737),\n",
       " ('的故事', 1682),\n",
       " ('的时候', 1488),\n",
       " ('看完', 1407),\n",
       " ('都是', 1327),\n",
       " ('的一部', 1288),\n",
       " ('我的', 1076),\n",
       " ('的人', 1007),\n",
       " ('这部电影', 1003),\n",
       " ('好的', 929),\n",
       " ('还不错', 911),\n",
       " ('很好', 868),\n",
       " ('喜欢的', 845),\n",
       " ('不错的', 812),\n",
       " ('的是', 806),\n",
       " ('拍的', 797),\n",
       " ('让我', 797),\n",
       " ('让人', 795),\n",
       " ('这样的', 786),\n",
       " ('这是', 781),\n",
       " ('电影的', 771),\n",
       " ('好看的', 760),\n",
       " ('不知道', 748),\n",
       " ('不喜欢', 734),\n",
       " ('了我', 723),\n",
       " ('我觉得', 700),\n",
       " ('很喜欢', 683),\n",
       " ('中的', 677),\n",
       " ('是我', 641),\n",
       " ('的我', 622),\n",
       " ('的感觉', 617),\n",
       " ('最好的', 607),\n",
       " ('人的', 597),\n",
       " ('也是', 578),\n",
       " ('还可以', 565),\n",
       " ('是个', 563),\n",
       " ('很不错', 556),\n",
       " ('的剧情', 538),\n",
       " ('的好', 534),\n",
       " ('去看', 515),\n",
       " ('很有', 508),\n",
       " ('我是', 505),\n",
       " ('又是', 489),\n",
       " ('三星半', 488),\n",
       " ('的很', 487),\n",
       " ('一部电影', 481),\n",
       " ('最喜欢', 481),\n",
       " ('这片子', 478),\n",
       " ('的作品', 465),\n",
       " ('很好看', 454),\n",
       " ('我喜欢', 453),\n",
       " ('不好看', 440),\n",
       " ('是一部', 429),\n",
       " ('了吧', 418),\n",
       " ('牛逼', 418),\n",
       " ('的演技', 413),\n",
       " ('看过的', 404),\n",
       " ('的经典', 402),\n",
       " ('挺好', 398),\n",
       " ('的青春', 397),\n",
       " ('我就', 396),\n",
       " ('自己的', 389),\n",
       " ('我看', 388),\n",
       " ('经典的', 386),\n",
       " ('我也', 384),\n",
       " ('真的是', 379),\n",
       " ('哭了', 374),\n",
       " ('的小', 372),\n",
       " ('看得', 366),\n",
       " ('一个人', 359),\n",
       " ('里的', 356),\n",
       " ('都有', 356),\n",
       " ('的爱情', 356),\n",
       " ('演的', 355),\n",
       " ('都很', 348),\n",
       " ('了一个', 348),\n",
       " ('完了', 346),\n",
       " ('你的', 344),\n",
       " ('这电影', 342),\n",
       " ('人都', 340),\n",
       " ('都不', 335),\n",
       " ('实在是', 334),\n",
       " ('哈哈哈哈哈哈', 334),\n",
       " ('可爱的', 333),\n",
       " ('没看', 328),\n",
       " ('的一个', 328),\n",
       " ('以为是', 327),\n",
       " ('死了', 325),\n",
       " ('的片', 316),\n",
       " ('了这', 315),\n",
       " ('真的很', 313),\n",
       " ('我想', 310),\n",
       " ('的生活', 308),\n",
       " ('是一个', 308),\n",
       " ('最后的', 304),\n",
       " ('了看', 301),\n",
       " ('小清新', 301)]"
      ]
     },
     "execution_count": 231,
     "metadata": {},
     "output_type": "execute_result"
    }
   ],
   "source": [
    "TOKEN_2 = [str(t) for t in TOKEN]\n",
    "TOKEN_2_grammar = [''.join(TOKEN_2[i:i+2]) for i in range(len(TOKEN_2)-2)]\n",
    "\n",
    "words_count2 = Counter(TOKEN_2_grammar)\n",
    "words_count2.most_common(100)"
   ]
  },
  {
   "cell_type": "code",
   "execution_count": 250,
   "metadata": {},
   "outputs": [
    {
     "name": "stdout",
     "output_type": "stream",
     "text": [
      "戈壁老王昨天坐飞机 is more possible\n",
      "-- 隔壁老王昨天做飞机 with probility 5.333249638442835e-24\n",
      "-- 戈壁老王昨天坐飞机 with probility 6.754015490458143e-19\n",
      "今天我要去踢足球 is more possible\n",
      "-- 今天我要去提足求 with probility 1.1851665863206301e-24\n",
      "-- 今天我要去踢足球 with probility 1.3508030980916286e-18\n",
      "开课吧越来越好 is more possible\n",
      "-- 开课吧越来越好 with probility 1.6209637177099544e-17\n",
      "-- 越来越豪开课吧 with probility 6.754015490458143e-19\n",
      "它被公司开出了 is more possible\n",
      "-- 他被公司开除了 with probility 1.1851665863206301e-24\n",
      "-- 它被公司开出了 with probility 5.333249638442835e-24\n",
      "我想去看电影 is more possible\n",
      "-- 我想去看电影 with probility 9.6554804761757e-16\n",
      "-- 我相去砍电影 with probility 6.754015490458143e-19\n"
     ]
    }
   ],
   "source": [
    "def prob_1(w):return words_count[w] / len(TOKEN)\n",
    "def prob_2(w1,w2):\n",
    "    if w1 + w2 in words_count2: return words_count2[w1+w2] / len(TOKEN_2_grammar)\n",
    "    else:\n",
    "        return 1 / len(TOKEN_2_grammar)\n",
    "\n",
    "def get_probability(sentence):\n",
    "    words = cut(sentence)\n",
    "    sentence_prob = 1\n",
    "    \n",
    "    for i,word in enumerate(words[:-1]):\n",
    "        nextword = words[i+1]\n",
    "        probability = prob_2(word,nextword)\n",
    "        sentence_prob *= probability\n",
    "    return sentence_prob\n",
    "\n",
    "compared = [\n",
    "    \"隔壁老王昨天做飞机 戈壁老王昨天坐飞机\",\n",
    "    \"今天我要去提足求 今天我要去踢足球\",\n",
    "    \"开课吧越来越好 越来越豪开课吧\",\n",
    "    \"他被公司开除了 它被公司开出了\",\n",
    "    \"我想去看电影 我相去砍电影\"\n",
    "]\n",
    "\n",
    "for w in compared:\n",
    "    w1,w2 = w.split()\n",
    "    p1 = get_probability(w1)\n",
    "    p2 = get_probability(w2)\n",
    "    \n",
    "    better = w1 if p1>p2 else w2\n",
    "    \n",
    "    \n",
    "    print('{} is more possible'.format(better))\n",
    "    print('-'*2 + ' {} with probility {}'.format(w1, p1))\n",
    "    print('-'*2 + ' {} with probility {}'.format(w2, p2))"
   ]
  }
 ],
 "metadata": {
  "kernelspec": {
   "display_name": "Python 3",
   "language": "python",
   "name": "python3"
  },
  "language_info": {
   "codemirror_mode": {
    "name": "ipython",
    "version": 3
   },
   "file_extension": ".py",
   "mimetype": "text/x-python",
   "name": "python",
   "nbconvert_exporter": "python",
   "pygments_lexer": "ipython3",
   "version": "3.7.1rc1"
  }
 },
 "nbformat": 4,
 "nbformat_minor": 2
}
