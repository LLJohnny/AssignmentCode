{
 "cells": [
  {
   "cell_type": "markdown",
   "metadata": {},
   "source": [
    "$$loss = \\frac{1}{n} \\sum{|y_i - \\hat{y_i}|}$$\n",
    "\n",
    "$$loss = \\frac{1}{n} \\sum{|y_i - (kx_i+b_i)|}$$\n",
    "\n",
    "$$\\frac{\\partial{loss}}{\\partial{k}} = +或-\\frac{x_i}{n}$$\n",
    "\n",
    "$$\\frac{\\partial{loss}}{\\partial{b}} = +或-\\frac{1}{n}$$"
   ]
  },
  {
   "cell_type": "code",
   "execution_count": 33,
   "metadata": {},
   "outputs": [],
   "source": [
    "import random\n",
    "import numpy\n",
    "import matplotlib\n",
    "import matplotlib.pyplot as plt\n",
    "from sklearn.datasets import load_boston\n",
    "data = load_boston()\n",
    "X,y = data['data'],data['target']"
   ]
  },
  {
   "cell_type": "code",
   "execution_count": 34,
   "metadata": {},
   "outputs": [],
   "source": [
    "def partial_k(x,y,y_hat):  #求 k 的导数\n",
    "    n = len(y)\n",
    "    \n",
    "    gradient = 0\n",
    "    \n",
    "    for m,i,j in zip(list(x),list(y),list(y_hat)):\n",
    "        if i > j:\n",
    "            gradient += -m\n",
    "        elif i < j:\n",
    "            gradient += m\n",
    "    \n",
    "    return gradient / n"
   ]
  },
  {
   "cell_type": "code",
   "execution_count": 35,
   "metadata": {},
   "outputs": [],
   "source": [
    "def partial_b(x,y,y_hat):  #求 b 的导数\n",
    "    n = len(y)\n",
    "    \n",
    "    gradient = 0\n",
    "    \n",
    "    for i,j in zip(list(y),list(y_hat)):\n",
    "        if i> j:\n",
    "            gradient += -1\n",
    "        elif i < j:\n",
    "            gradient += 1 \n",
    "    \n",
    "    return gradient / n"
   ]
  },
  {
   "cell_type": "code",
   "execution_count": 36,
   "metadata": {},
   "outputs": [
    {
     "name": "stdout",
     "output_type": "stream",
     "text": [
      "第0次，best_k:-46.88898611996664,best_b:-74.7269024407756,and the loss is:155205.04218336145\n",
      "第5000次，best_k:-43.746668926281565,best_b:-74.226902440759,and the loss is:139574.28745843083\n",
      "第10000次，best_k:-40.60435173259649,best_b:-73.7269024407424,and the loss is:124773.25112936067\n",
      "第15000次，best_k:-37.46203453891142,best_b:-73.22690244072581,and the loss is:110801.9331961509\n",
      "第20000次，best_k:-34.319717345226344,best_b:-72.72690244070921,and the loss is:97660.33365880157\n",
      "第25000次，best_k:-31.17740015154592,best_b:-72.22690244069261,and the loss is:85348.4525173298\n",
      "第30000次，best_k:-28.03508295787861,best_b:-71.72690244067601,and the loss is:73866.28977176105\n",
      "第35000次，best_k:-24.8927657642113,best_b:-71.22690244065942,and the loss is:63213.84542204341\n",
      "第40000次，best_k:-21.75044857054399,best_b:-70.72690244064282,and the loss is:53391.11946817713\n",
      "第45000次，best_k:-18.60813137687668,best_b:-70.22690244062622,and the loss is:44398.11191016199\n",
      "第50000次，best_k:-15.465814183207861,best_b:-69.72690244060962,and the loss is:36234.822747994505\n",
      "第55000次，best_k:-12.32349698953167,best_b:-69.22690244059302,and the loss is:28901.251981663147\n",
      "第60000次，best_k:-9.181179795855478,best_b:-68.72690244057642,and the loss is:22397.39961118761\n",
      "第65000次，best_k:-6.038862602179286,best_b:-68.22690244055983,and the loss is:16723.265636567896\n",
      "第70000次，best_k:-2.896545408503094,best_b:-67.72690244054323,and the loss is:11878.85005780396\n",
      "第75000次，best_k:0.2457717851729423,best_b:-67.22690244052663,and the loss is:7864.152874896002\n",
      "第80000次，best_k:3.388088978849023,best_b:-66.72690244051003,and the loss is:4679.174087843719\n",
      "第85000次，best_k:6.530406172525215,best_b:-66.22690244049343,and the loss is:2323.9136966471233\n",
      "第90000次，best_k:9.672723366201406,best_b:-65.72690244047683,and the loss is:798.3717013063224\n",
      "第95000次，best_k:12.659691486755714,best_b:-65.24983089897411,and the loss is:117.42285987039553\n"
     ]
    }
   ],
   "source": [
    "rm = X[:,5]\n",
    "\n",
    "def price(rm,k,b): #rm相当于X\n",
    "    return k * rm + b\n",
    "\n",
    "def loss(y,y_hat):\n",
    "    return sum((i - j)**2 for i,j in zip(list(y),list(y_hat))) / len(list(y))\n",
    "\n",
    "trying_times = 100000\n",
    "\n",
    "min_loss = float('inf')\n",
    "\n",
    "#初始化 k 和 b\n",
    "current_k = random.random()*200-100\n",
    "current_b = random.random()*200-100\n",
    "\n",
    "#为避免 x + （导数的反方向）变得过大而导致loss变大，需设置一个学习率变量，赋值一个非常小的数字，类似于0.000001\n",
    "learning_rate = 1e-4\n",
    "\n",
    "for i in range(trying_times):\n",
    "    \n",
    "    price_k_and_b = [price(r,current_k,current_b) for  r in rm]\n",
    "       \n",
    "    current_loss = loss(y,price_k_and_b)\n",
    "    \n",
    "    if current_loss < min_loss: #得到的结果向更好的方向发展\n",
    "        min_loss = current_loss\n",
    "        \n",
    "        if i % 5000 ==0:\n",
    "            print('第{}次，best_k:{},best_b:{},and the loss is:{}'.format(i,current_k,current_b,min_loss))\n",
    "        \n",
    "        \n",
    "    k_gradient = partial_k(rm,y,price_k_and_b)\n",
    "    \n",
    "    b_gradient = partial_b(rm,y,price_k_and_b)\n",
    "    \n",
    "    current_k = current_k + (-1 * k_gradient) * learning_rate\n",
    "    current_b = current_b + (-1 * b_gradient) * learning_rate\n",
    "    \n",
    "\n",
    "#换成绝对值对 k、b 进行求导，每次下降的速度（数值）很慢（很小），尝试次数足够多时且需要k、b取得较好的初始值才能得到较好的 loss。"
   ]
  },
  {
   "cell_type": "code",
   "execution_count": 38,
   "metadata": {},
   "outputs": [
    {
     "data": {
      "text/plain": [
       "<matplotlib.collections.PathCollection at 0x1f84e2c6710>"
      ]
     },
     "execution_count": 38,
     "metadata": {},
     "output_type": "execute_result"
    },
    {
     "data": {
      "image/png": "[encoded data removed]",
      "text/plain": [
       "<Figure size 432x288 with 1 Axes>"
      ]
     },
     "metadata": {
      "needs_background": "light"
     },
     "output_type": "display_data"
    }
   ],
   "source": [
    "%matplotlib inline\n",
    "k = 12.659691486755714\n",
    "b = -65.24983089897411\n",
    "price_k_and_b = [price(r,k,b) for  r in rm]\n",
    "\n",
    "plt.scatter(X[:, 5], y) #实际数值\n",
    "plt.scatter(rm,price_k_and_b) #预测数值"
   ]
  },
  {
   "cell_type": "markdown",
   "metadata": {},
   "source": [
    "# Finish the Solution Parse Part of Edit-Distance"
   ]
  },
  {
   "cell_type": "code",
   "execution_count": 184,
   "metadata": {},
   "outputs": [],
   "source": [
    "from functools import lru_cache"
   ]
  },
  {
   "cell_type": "code",
   "execution_count": 220,
   "metadata": {},
   "outputs": [],
   "source": [
    "solution = {}\n",
    "\n",
    "@lru_cache(maxsize=2**10)\n",
    "def edit_distance(string1, string2):\n",
    "    \n",
    "    if len(string1) == 0: return len(string2)\n",
    "    if len(string2) == 0: return len(string1)\n",
    "    \n",
    "    tail_s1 = string1[-1]\n",
    "    tail_s2 = string2[-1]\n",
    "    \n",
    "    candidates = [\n",
    "        (edit_distance(string1[:-1], string2) + 1, 'DEL {}'.format(tail_s1)),  # string 1 delete tail\n",
    "        (edit_distance(string1, string2[:-1]) + 1, 'ADD {}'.format(tail_s2)),  # string 1 add tail of string2\n",
    "    ]\n",
    "    \n",
    "    if tail_s1 == tail_s2:\n",
    "        both_forward = (edit_distance(string1[:-1], string2[:-1]) + 0, 'Nothing needs to do')\n",
    "    else:\n",
    "        both_forward = (edit_distance(string1[:-1], string2[:-1]) + 1, 'SUB {} => {}'.format(tail_s1, tail_s2))\n",
    "\n",
    "    candidates.append(both_forward)\n",
    "    \n",
    "    min_distance, operation = min(candidates, key=lambda x: x[0])\n",
    "    \n",
    "    solution[(string1, string2)] = operation \n",
    "    \n",
    "    return min_distance"
   ]
  },
  {
   "cell_type": "code",
   "execution_count": 224,
   "metadata": {},
   "outputs": [
    {
     "data": {
      "text/plain": [
       "[('ASDFGkfgdsgheieieiod', 'Nothing needs to do', 'AXDCFGHJ12345ieieikd'),\n",
       " ('ASDFGkfgdsgheieieio', 'SUB o => k', 'AXDCFGHJ12345ieieik'),\n",
       " ('ASDFGkfgdsgheieiei', 'Nothing needs to do', 'AXDCFGHJ12345ieiei'),\n",
       " ('ASDFGkfgdsgheieie', 'Nothing needs to do', 'AXDCFGHJ12345ieie'),\n",
       " ('ASDFGkfgdsgheiei', 'Nothing needs to do', 'AXDCFGHJ12345iei'),\n",
       " ('ASDFGkfgdsgheie', 'Nothing needs to do', 'AXDCFGHJ12345ie'),\n",
       " ('ASDFGkfgdsghei', 'Nothing needs to do', 'AXDCFGHJ12345i'),\n",
       " ('ASDFGkfgdsghe', 'DEL e', 'AXDCFGHJ12345'),\n",
       " ('ASDFGkfgdsgh', 'SUB h => 5', 'AXDCFGHJ12345'),\n",
       " ('ASDFGkfgdsg', 'SUB g => 4', 'AXDCFGHJ1234'),\n",
       " ('ASDFGkfgds', 'SUB s => 3', 'AXDCFGHJ123'),\n",
       " ('ASDFGkfgd', 'SUB d => 2', 'AXDCFGHJ12'),\n",
       " ('ASDFGkfg', 'SUB g => 1', 'AXDCFGHJ1'),\n",
       " ('ASDFGkf', 'SUB f => J', 'AXDCFGHJ'),\n",
       " ('ASDFGk', 'SUB k => H', 'AXDCFGH'),\n",
       " ('ASDFG', 'Nothing needs to do', 'AXDCFG'),\n",
       " ('ASDF', 'Nothing needs to do', 'AXDCF'),\n",
       " ('ASD', 'ADD C', 'AXDC'),\n",
       " ('ASD', 'Nothing needs to do', 'AXD'),\n",
       " ('AS', 'SUB S => X', 'AX')]"
      ]
     },
     "execution_count": 224,
     "metadata": {},
     "output_type": "execute_result"
    }
   ],
   "source": [
    "a = 'ASDFGkfgdsgheieieiod'\n",
    "b = 'AXDCFGHJ12345ieieikd'\n",
    "edit_distance(a,b)\n",
    "solution\n",
    "\n",
    "def parse_solution(string1, string2, solution):  \n",
    "    solution_path = []\n",
    "    \n",
    "    while string1 != string2:#边界\n",
    "        \n",
    "        operation = solution[(string1, string2)]\n",
    "        \n",
    "        if operation.startswith('ADD'):\n",
    "            solution_path.append((string1, operation, string2))\n",
    "            string1, string2 = string1, string2[:-1]\n",
    "        elif operation.startswith('DEL'):\n",
    "            solution_path.append((string1, operation, string2))\n",
    "            string1, string2 = string1[:-1], string2\n",
    "        else:\n",
    "            solution_path.append((string1, operation, string2))\n",
    "            string1, string2 = string1[:-1], string2[:-1]\n",
    "    \n",
    "    \n",
    "    return solution_path\n",
    "\n",
    "parse_solution(a,b,solution)"
   ]
  },
  {
   "cell_type": "code",
   "execution_count": 225,
   "metadata": {},
   "outputs": [
    {
     "data": {
      "text/plain": [
       "11"
      ]
     },
     "execution_count": 225,
     "metadata": {},
     "output_type": "execute_result"
    }
   ],
   "source": [
    "edit_distance(a,b)"
   ]
  },
  {
   "cell_type": "markdown",
   "metadata": {},
   "source": [
    "# (Optional) Finish the k-person-salesman problem:"
   ]
  },
  {
   "cell_type": "code",
   "execution_count": 1,
   "metadata": {},
   "outputs": [],
   "source": [
    "import random\n",
    "import math\n",
    "import networkx as nx\n",
    "import matplotlib\n",
    "import matplotlib.pyplot as plt\n",
    "import numpy as np\n",
    "%matplotlib inline"
   ]
  },
  {
   "cell_type": "code",
   "execution_count": 2,
   "metadata": {},
   "outputs": [],
   "source": [
    "def geo_distance(origin, destination):#计算两个经纬度之间的距离,Haversine公式\n",
    "    \n",
    "    log1,lat1 = origin\n",
    "    log2,lat2 = destination\n",
    "    radius = 6371  # 地球平均半径 km\n",
    "\n",
    "    dlat = math.radians(lat2 - lat1)\n",
    "    dlog = math.radians(log2 - log1)\n",
    "    a = (math.sin(dlat / 2) * math.sin(dlat / 2) +\n",
    "         math.cos(math.radians(lat1)) * math.cos(math.radians(lat2)) *\n",
    "         math.sin(dlog / 2) * math.sin(dlog / 2))\n",
    "    c = 2 * math.atan2(math.sqrt(a), math.sqrt(1 - a))\n",
    "    d = radius * c\n",
    "\n",
    "    return d\n",
    "\n",
    "def get_geo_distance(origin, destination):\n",
    "    return geo_distance(origin,destination),destination"
   ]
  },
  {
   "cell_type": "code",
   "execution_count": 329,
   "metadata": {},
   "outputs": [
    {
     "data": {
      "text/plain": [
       "<matplotlib.collections.PathCollection at 0x180ed5f1eb8>"
      ]
     },
     "execution_count": 329,
     "metadata": {},
     "output_type": "execute_result"
    },
    {
     "data": {
      "image/png": "[encoded data removed]",
      "text/plain": [
       "<Figure size 432x288 with 1 Axes>"
      ]
     },
     "metadata": {
      "needs_background": "light"
     },
     "output_type": "display_data"
    }
   ],
   "source": [
    "#随机生成20个点的经纬度\n",
    "latitudes = [random.randint(-100, 100) for _ in range(20)]\n",
    "longitude = [random.randint(-100, 100) for _ in range(20)]\n",
    "plt.scatter(latitudes, longitude)"
   ]
  },
  {
   "cell_type": "code",
   "execution_count": 330,
   "metadata": {},
   "outputs": [
    {
     "data": {
      "text/plain": [
       "<matplotlib.collections.PathCollection at 0x180ebe69630>"
      ]
     },
     "execution_count": 330,
     "metadata": {},
     "output_type": "execute_result"
    },
    {
     "data": {
      "image/png": "[encoded data removed]",
      "text/plain": [
       "<Figure size 432x288 with 1 Axes>"
      ]
     },
     "metadata": {
      "needs_background": "light"
     },
     "output_type": "display_data"
    }
   ],
   "source": [
    "#将随机生成的点归集到列表cities,并创建cities_dict字典\n",
    "cities_init = []\n",
    "cities_dict = {}\n",
    "for lat,lon in zip(list(latitudes),list(longitude)):\n",
    "    cities_init.append((lon,lat))\n",
    "\n",
    "for i,city in enumerate(cities_init):\n",
    "    cities_dict[i+1] = city\n",
    "\n",
    "#随机选择一个点为起点chosen_start\n",
    "chosen_p = random.choice(cities_init)\n",
    "plt.scatter(latitudes, longitude,marker='d')\n",
    "plt.scatter([chosen_p[0]], [chosen_p[1]], color='r')"
   ]
  },
  {
   "cell_type": "code",
   "execution_count": 331,
   "metadata": {},
   "outputs": [
    {
     "name": "stdout",
     "output_type": "stream",
     "text": [
      "起点为：9\n",
      "最短路径为：9->10->1->18->5->6->17->12->11->13->14->15->20->2->8->19->3->4->16->7->9\n"
     ]
    },
    {
     "data": {
      "text/plain": [
       "'最短距离为：70827.00714536672'"
      ]
     },
     "execution_count": 331,
     "metadata": {},
     "output_type": "execute_result"
    }
   ],
   "source": [
    "\n",
    "#贪心算法，局部子结构最优近似于全局最优\n",
    "def tsp(start_city,v):\n",
    "    distance = 0 #距离计算   \n",
    "    pathes = [start_city] #记录访问过的节点的顺序\n",
    "    end = start_city #最后一个访问的点为开始节点\n",
    "    pathes_name = [] #节点名称列表\n",
    "\n",
    "    while len(v) > 0: #访问的边界\n",
    "        if len(v) ==1:\n",
    "            v.pop(0)\n",
    "            min_distance = geo_distance(start_city,end)\n",
    "            distance += min_distance\n",
    "            pathes.append(end)\n",
    "            \n",
    "        else:\n",
    "            tmp = []\n",
    "            v.pop(v.index(start_city)) #去掉访问过的节点\n",
    "            for next_city in v:\n",
    "                tmp.append(get_geo_distance(start_city,next_city))\n",
    "            min_distance,visited = min(tmp,key=lambda x:x[0]) #记录当前节点到其他节点的最短距离和当前节点坐标\n",
    "            distance += min_distance\n",
    "            pathes.append(visited) #按顺序存入当前访问的节点\n",
    "            start_city = visited #将当前节点作为起点继续循环\n",
    "    \n",
    "    #找到坐标名称   \n",
    "    for p in pathes: \n",
    "        for i in range(1,21):\n",
    "            if cities_dict[i] == p:\n",
    "                pathes_name.append(str(i))\n",
    "    \n",
    "    print('最短路径为：' + '->'.join(pathes_name))\n",
    "    return '最短距离为：' + str(distance)\n",
    "    \n",
    "\n",
    "    #运行结果\n",
    "for k in range(1,21):\n",
    "    if cities_dict[k] == chosen_p:\n",
    "        print ('起点为：' + str(k))        \n",
    "  \n",
    "\n",
    "tsp(chosen_p,cities_init)\n",
    "\n",
    "#由于按照经纬度计算距离，距离数值比较大"
   ]
  },
  {
   "cell_type": "markdown",
   "metadata": {},
   "source": [
    "# 三个起点的思路是（还是贪心算法的思维）：1、除三个起点外的所有点，到哪个起点的距离最小则划分到哪个起点的区域中去；2、重复上面的做法求最短距离和路径。"
   ]
  }
 ],
 "metadata": {
  "kernelspec": {
   "display_name": "Python 3",
   "language": "python",
   "name": "python3"
  },
  "language_info": {
   "codemirror_mode": {
    "name": "ipython",
    "version": 3
   },
   "file_extension": ".py",
   "mimetype": "text/x-python",
   "name": "python",
   "nbconvert_exporter": "python",
   "pygments_lexer": "ipython3",
   "version": "3.7.1rc1"
  }
 },
 "nbformat": 4,
 "nbformat_minor": 2
}
