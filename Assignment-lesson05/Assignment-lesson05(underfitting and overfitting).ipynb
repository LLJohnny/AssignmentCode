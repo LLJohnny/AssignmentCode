{
 "cells": [
  {
   "cell_type": "markdown",
   "metadata": {},
   "source": [
    "# underfitting（欠拟合）与 overfitting（过拟合）"
   ]
  },
  {
   "cell_type": "markdown",
   "metadata": {},
   "source": [
    "underfitting:由于函数过于简单，拟合出的图形对数据的实际趋势的反应能力很差,导致模型很难拟合数据的真实分布,使得模型的准确度一直很低。产生了很大的Bias，Bias就是对事实估计的程度准不准。"
   ]
  },
  {
   "cell_type": "markdown",
   "metadata": {},
   "source": [
    "overfitting:训练数据或者旧数据在模型上运行的很好，但测试数据或者新数据在模型上运行很差。主要原因有：1、样本数据量太少；2、数据采样存在很大的偏差；3、模型太过于复杂，可能连训练数据的噪音也拟合了。因而产生了很大的Variance，Variance指的是数据稍微一变，结果变化了多少。"
   ]
  }
 ],
 "metadata": {
  "kernelspec": {
   "display_name": "Python 3",
   "language": "python",
   "name": "python3"
  },
  "language_info": {
   "codemirror_mode": {
    "name": "ipython",
    "version": 3
   },
   "file_extension": ".py",
   "mimetype": "text/x-python",
   "name": "python",
   "nbconvert_exporter": "python",
   "pygments_lexer": "ipython3",
   "version": "3.7.1rc1"
  }
 },
 "nbformat": 4,
 "nbformat_minor": 2
}
